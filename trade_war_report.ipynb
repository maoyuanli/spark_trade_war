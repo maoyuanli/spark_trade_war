{
 "cells": [
  {
   "cell_type": "code",
   "execution_count": 1,
   "metadata": {},
   "outputs": [],
   "source": [
    "# heavylifting functions are abstracted and modularized in utils package\n",
    "from utils.fetch_tweet import TweetFetcher\n",
    "from utils.analyze_sentiment import SentimentAnalyzer\n",
    "from utils.spark_initializer import SparkInitializer\n",
    "SparkInitializer.init_spark()\n",
    "from pyspark.sql.functions import from_json, col, udf\n",
    "from pyspark.sql import SparkSession\n",
    "from pyspark.sql.types import StructType, StructField, DateType, MapType, StringType, FloatType"
   ]
  },
  {
   "cell_type": "code",
   "execution_count": 2,
   "metadata": {},
   "outputs": [],
   "source": [
    "spark = SparkSession.builder.appName('TradeWar').getOrCreate()"
   ]
  },
  {
   "cell_type": "markdown",
   "metadata": {},
   "source": [
    "#### retrieve data source"
   ]
  },
  {
   "cell_type": "code",
   "execution_count": 21,
   "metadata": {},
   "outputs": [],
   "source": [
    "topic = ['china', 'trade']\n",
    "media = ['marketwatch', 'wsj', 'ft', 'business', 'theeconomist', 'cnbc', 'cnn']"
   ]
  },
  {
   "cell_type": "code",
   "execution_count": 22,
   "metadata": {},
   "outputs": [],
   "source": [
    "media_tweets = TweetFetcher(media, topic).generate_tweets()"
   ]
  },
  {
   "cell_type": "code",
   "execution_count": 25,
   "metadata": {},
   "outputs": [
    {
     "data": {
      "text/plain": [
       "{'created_at': 'Sun Dec 15 21:39:37 +0000 2019',\n",
       " 'id': 1206327979296612353,\n",
       " 'id_str': '1206327979296612353',\n",
       " 'text': 'China says it will put off tariff hike on U.S. autos, other goods following trade deal https://t.co/DrJ6G3o8TB',\n",
       " 'truncated': False,\n",
       " 'entities': {'hashtags': [],\n",
       "  'symbols': [],\n",
       "  'user_mentions': [],\n",
       "  'urls': [{'url': 'https://t.co/DrJ6G3o8TB',\n",
       "    'expanded_url': 'https://on.mktw.net/2Po956z',\n",
       "    'display_url': 'on.mktw.net/2Po956z',\n",
       "    'indices': [87, 110]}]},\n",
       " 'metadata': {'iso_language_code': 'en', 'result_type': 'recent'},\n",
       " 'source': '<a href=\"http://www.socialflow.com\" rel=\"nofollow\">SocialFlow</a>',\n",
       " 'in_reply_to_status_id': None,\n",
       " 'in_reply_to_status_id_str': None,\n",
       " 'in_reply_to_user_id': None,\n",
       " 'in_reply_to_user_id_str': None,\n",
       " 'in_reply_to_screen_name': None,\n",
       " 'user': {'id': 624413,\n",
       "  'id_str': '624413',\n",
       "  'name': 'MarketWatch',\n",
       "  'screen_name': 'MarketWatch',\n",
       "  'location': '',\n",
       "  'description': 'News, personal finance & commentary from MarketWatch.',\n",
       "  'url': 'http://t.co/0HcV671qZB',\n",
       "  'entities': {'url': {'urls': [{'url': 'http://t.co/0HcV671qZB',\n",
       "      'expanded_url': 'http://www.marketwatch.com/',\n",
       "      'display_url': 'marketwatch.com',\n",
       "      'indices': [0, 22]}]},\n",
       "   'description': {'urls': []}},\n",
       "  'protected': False,\n",
       "  'followers_count': 3655300,\n",
       "  'friends_count': 191,\n",
       "  'listed_count': 24712,\n",
       "  'created_at': 'Thu Jan 11 05:15:48 +0000 2007',\n",
       "  'favourites_count': 2630,\n",
       "  'utc_offset': None,\n",
       "  'time_zone': None,\n",
       "  'geo_enabled': False,\n",
       "  'verified': True,\n",
       "  'statuses_count': 291066,\n",
       "  'lang': None,\n",
       "  'contributors_enabled': False,\n",
       "  'is_translator': False,\n",
       "  'is_translation_enabled': False,\n",
       "  'profile_background_color': '408D52',\n",
       "  'profile_background_image_url': 'http://abs.twimg.com/images/themes/theme1/bg.png',\n",
       "  'profile_background_image_url_https': 'https://abs.twimg.com/images/themes/theme1/bg.png',\n",
       "  'profile_background_tile': False,\n",
       "  'profile_image_url': 'http://pbs.twimg.com/profile_images/705601245596090368/Z6xUOnRg_normal.jpg',\n",
       "  'profile_image_url_https': 'https://pbs.twimg.com/profile_images/705601245596090368/Z6xUOnRg_normal.jpg',\n",
       "  'profile_banner_url': 'https://pbs.twimg.com/profile_banners/624413/1398380735',\n",
       "  'profile_link_color': '408D52',\n",
       "  'profile_sidebar_border_color': 'FFFFFF',\n",
       "  'profile_sidebar_fill_color': 'F0F7F2',\n",
       "  'profile_text_color': '333333',\n",
       "  'profile_use_background_image': True,\n",
       "  'has_extended_profile': False,\n",
       "  'default_profile': False,\n",
       "  'default_profile_image': False,\n",
       "  'following': False,\n",
       "  'follow_request_sent': False,\n",
       "  'notifications': False,\n",
       "  'translator_type': 'none'},\n",
       " 'geo': None,\n",
       " 'coordinates': None,\n",
       " 'place': None,\n",
       " 'contributors': None,\n",
       " 'is_quote_status': False,\n",
       " 'retweet_count': 6,\n",
       " 'favorite_count': 8,\n",
       " 'favorited': False,\n",
       " 'retweeted': False,\n",
       " 'possibly_sensitive': False,\n",
       " 'lang': 'en'}"
      ]
     },
     "execution_count": 25,
     "metadata": {},
     "output_type": "execute_result"
    }
   ],
   "source": [
    "# retrieved json format tweets\n",
    "media_tweets[0]"
   ]
  },
  {
   "cell_type": "markdown",
   "metadata": {},
   "source": [
    "#### manipulate data using Spark"
   ]
  },
  {
   "cell_type": "code",
   "execution_count": 41,
   "metadata": {},
   "outputs": [],
   "source": [
    "# as shown in the sample tweet, user is in nested json. MapType is the best choice to StructType it\n",
    "tweet_schema = StructType([StructField('created_at', StringType(), True),\n",
    "                           StructField('user', MapType(StringType(),StringType()), True),\n",
    "                           StructField('text', StringType(), True),\n",
    "                          ])"
   ]
  },
  {
   "cell_type": "code",
   "execution_count": 28,
   "metadata": {},
   "outputs": [],
   "source": [
    "sdf = spark.createDataFrame(media_tweets, schema=tweet_schema)"
   ]
  },
  {
   "cell_type": "code",
   "execution_count": 29,
   "metadata": {},
   "outputs": [
    {
     "name": "stdout",
     "output_type": "stream",
     "text": [
      "+--------------------+--------------------+--------------------+\n",
      "|          created_at|                user|                text|\n",
      "+--------------------+--------------------+--------------------+\n",
      "|Sun Dec 15 21:39:...|[utc_offset ->, f...|China says it wil...|\n",
      "|Sun Dec 15 20:40:...|[utc_offset ->, f...|So many of the br...|\n",
      "|Sun Dec 15 18:44:...|[utc_offset ->, f...|China's exports t...|\n",
      "|Sun Dec 15 18:29:...|[utc_offset ->, f...|That a deal exist...|\n",
      "|Sun Dec 15 17:24:...|[utc_offset ->, f...|U.S. Trade Repres...|\n",
      "|Sun Dec 15 17:15:...|[utc_offset ->, f...|China calls off a...|\n",
      "|Sun Dec 15 17:12:...|[utc_offset ->, f...|U.S.T.R Lighthize...|\n",
      "|Sun Dec 15 16:52:...|[utc_offset ->, f...|RT @emma_newburge...|\n",
      "|Sun Dec 15 15:23:...|[utc_offset ->, f...|Even though it wa...|\n",
      "|Sun Dec 15 06:12:...|[utc_offset ->, f...|China's share of ...|\n",
      "+--------------------+--------------------+--------------------+\n",
      "only showing top 10 rows\n",
      "\n"
     ]
    }
   ],
   "source": [
    "sdf.show(10)"
   ]
  },
  {
   "cell_type": "code",
   "execution_count": 42,
   "metadata": {},
   "outputs": [],
   "source": [
    "# flatten the user column\n",
    "user_schema = StructType([StructField('id_str', StringType(), True),\n",
    "                           StructField('name', StringType(), True),\n",
    "                           StructField('screen_name', StringType(), True),\n",
    "                          ])"
   ]
  },
  {
   "cell_type": "code",
   "execution_count": 43,
   "metadata": {},
   "outputs": [
    {
     "name": "stdout",
     "output_type": "stream",
     "text": [
      "root\n",
      " |-- created_at: string (nullable = true)\n",
      " |-- user: map (nullable = true)\n",
      " |    |-- key: string\n",
      " |    |-- value: string (valueContainsNull = true)\n",
      " |-- text: string (nullable = true)\n",
      "\n"
     ]
    }
   ],
   "source": [
    "sdf.printSchema()"
   ]
  },
  {
   "cell_type": "code",
   "execution_count": 32,
   "metadata": {},
   "outputs": [
    {
     "name": "stdout",
     "output_type": "stream",
     "text": [
      "+-------------+\n",
      "|user[name]   |\n",
      "+-------------+\n",
      "|MarketWatch  |\n",
      "|CNBC         |\n",
      "|The Economist|\n",
      "|The Economist|\n",
      "|Bloomberg    |\n",
      "|CNN          |\n",
      "|CNBC         |\n",
      "|CNBC         |\n",
      "|Bloomberg    |\n",
      "|The Economist|\n",
      "+-------------+\n",
      "only showing top 10 rows\n",
      "\n"
     ]
    }
   ],
   "source": [
    "sdf.select(col('user')['name']).show(10,False)"
   ]
  },
  {
   "cell_type": "code",
   "execution_count": 33,
   "metadata": {},
   "outputs": [],
   "source": [
    "sdf1 = sdf.withColumn('name', col('user')['name'])"
   ]
  },
  {
   "cell_type": "code",
   "execution_count": 34,
   "metadata": {},
   "outputs": [],
   "source": [
    "sdf2 = sdf1.select(col('name'),col('text'),col('created_at'))"
   ]
  },
  {
   "cell_type": "code",
   "execution_count": 35,
   "metadata": {},
   "outputs": [
    {
     "name": "stdout",
     "output_type": "stream",
     "text": [
      "+-------------+--------------------+--------------------+\n",
      "|         name|                text|          created_at|\n",
      "+-------------+--------------------+--------------------+\n",
      "|  MarketWatch|China says it wil...|Sun Dec 15 21:39:...|\n",
      "|         CNBC|So many of the br...|Sun Dec 15 20:40:...|\n",
      "|The Economist|China's exports t...|Sun Dec 15 18:44:...|\n",
      "|The Economist|That a deal exist...|Sun Dec 15 18:29:...|\n",
      "|    Bloomberg|U.S. Trade Repres...|Sun Dec 15 17:24:...|\n",
      "|          CNN|China calls off a...|Sun Dec 15 17:15:...|\n",
      "|         CNBC|U.S.T.R Lighthize...|Sun Dec 15 17:12:...|\n",
      "|         CNBC|RT @emma_newburge...|Sun Dec 15 16:52:...|\n",
      "|    Bloomberg|Even though it wa...|Sun Dec 15 15:23:...|\n",
      "|The Economist|China's share of ...|Sun Dec 15 06:12:...|\n",
      "+-------------+--------------------+--------------------+\n",
      "only showing top 10 rows\n",
      "\n"
     ]
    }
   ],
   "source": [
    "sdf2.show(10)"
   ]
  },
  {
   "cell_type": "code",
   "execution_count": 36,
   "metadata": {},
   "outputs": [],
   "source": [
    "# using customized sentiment analyzer class\n",
    "sa = SentimentAnalyzer()"
   ]
  },
  {
   "cell_type": "code",
   "execution_count": 37,
   "metadata": {},
   "outputs": [],
   "source": [
    "# transform a customized function into Spark User-Defined-Function\n",
    "udf_sentscore = udf(sa.sentiment_score, FloatType())"
   ]
  },
  {
   "cell_type": "code",
   "execution_count": 44,
   "metadata": {},
   "outputs": [],
   "source": [
    "# get sentiment score of the tweet\n",
    "sdf3 = sdf2.withColumn('sentiment_score', udf_sentscore(col('text')))"
   ]
  },
  {
   "cell_type": "code",
   "execution_count": 45,
   "metadata": {},
   "outputs": [
    {
     "name": "stdout",
     "output_type": "stream",
     "text": [
      "+-------------+--------------------+--------------------+---------------+\n",
      "|         name|                text|          created_at|sentiment_score|\n",
      "+-------------+--------------------+--------------------+---------------+\n",
      "|  MarketWatch|China says it wil...|Sun Dec 15 21:39:...|            0.0|\n",
      "|         CNBC|So many of the br...|Sun Dec 15 20:40:...|            0.0|\n",
      "|The Economist|China's exports t...|Sun Dec 15 18:44:...|            0.0|\n",
      "|The Economist|That a deal exist...|Sun Dec 15 18:29:...|         0.7003|\n",
      "|    Bloomberg|U.S. Trade Repres...|Sun Dec 15 17:24:...|            0.0|\n",
      "|          CNN|China calls off a...|Sun Dec 15 17:15:...|            0.0|\n",
      "|         CNBC|U.S.T.R Lighthize...|Sun Dec 15 17:12:...|            0.0|\n",
      "|         CNBC|RT @emma_newburge...|Sun Dec 15 16:52:...|         0.1027|\n",
      "|    Bloomberg|Even though it wa...|Sun Dec 15 15:23:...|         0.3818|\n",
      "|The Economist|China's share of ...|Sun Dec 15 06:12:...|          0.296|\n",
      "+-------------+--------------------+--------------------+---------------+\n",
      "only showing top 10 rows\n",
      "\n"
     ]
    }
   ],
   "source": [
    "sdf3.show(10)"
   ]
  },
  {
   "cell_type": "code",
   "execution_count": 46,
   "metadata": {},
   "outputs": [
    {
     "name": "stdout",
     "output_type": "stream",
     "text": [
      "+--------------------+--------------------+\n",
      "|                name|avg(sentiment_score)|\n",
      "+--------------------+--------------------+\n",
      "|The Wall Street J...|-0.05000000115897921|\n",
      "|         MarketWatch|-0.01311578660419...|\n",
      "|     Financial Times| 0.07606666535139084|\n",
      "|           Bloomberg|0.031371830739605595|\n",
      "|                 CNN| 0.16906923055648804|\n",
      "|                CNBC|0.059080262129244054|\n",
      "|       The Economist|-0.12496363574808295|\n",
      "+--------------------+--------------------+\n",
      "\n"
     ]
    }
   ],
   "source": [
    "sdf3.groupby('name').mean('sentiment_score').alias('avg_sentiment').show()"
   ]
  }
 ],
 "metadata": {
  "kernelspec": {
   "display_name": "tradewarvenv",
   "language": "python",
   "name": "tradewarvenv"
  },
  "language_info": {
   "codemirror_mode": {
    "name": "ipython",
    "version": 3
   },
   "file_extension": ".py",
   "mimetype": "text/x-python",
   "name": "python",
   "nbconvert_exporter": "python",
   "pygments_lexer": "ipython3",
   "version": "3.7.3"
  }
 },
 "nbformat": 4,
 "nbformat_minor": 4
}
