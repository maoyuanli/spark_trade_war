{
 "cells": [
  {
   "cell_type": "code",
   "execution_count": 1,
   "metadata": {},
   "outputs": [],
   "source": [
    "# heavylifting functions are abstracted and modularized in utils package\n",
    "from utils.fetch_tweet import UserTweetsFetcher, SearchTweetsFetcher\n",
    "from utils.fetch_quandl import IndexFetcher\n",
    "from utils.analyze_sentiment import SentimentAnalyzer\n",
    "from pprint import pprint\n",
    "from datetime import datetime"
   ]
  },
  {
   "cell_type": "code",
   "execution_count": 2,
   "metadata": {},
   "outputs": [],
   "source": [
    "# if not using docker, run this customized initializer first\n",
    "from utils.spark_initializer import SparkInitializer\n",
    "SparkInitializer.init_spark()"
   ]
  },
  {
   "cell_type": "code",
   "execution_count": 3,
   "metadata": {},
   "outputs": [],
   "source": [
    "# run without any fuss if using official jupyter/spark docker base image\n",
    "from pyspark.sql import functions\n",
    "from pyspark.sql.functions import from_json, col, udf\n",
    "from pyspark.sql import SparkSession\n",
    "from pyspark.sql.types import StructType, StructField, DateType, MapType, StringType, FloatType"
   ]
  },
  {
   "cell_type": "code",
   "execution_count": 4,
   "metadata": {},
   "outputs": [],
   "source": [
    "spark = SparkSession.builder.appName('TradeWar').getOrCreate()"
   ]
  },
  {
   "cell_type": "markdown",
   "metadata": {},
   "source": [
    "### retrieve data source"
   ]
  },
  {
   "cell_type": "code",
   "execution_count": 5,
   "metadata": {},
   "outputs": [],
   "source": [
    "topic = ['china', 'trade']\n",
    "media = ['marketwatch', 'wsj', 'ft', 'business', 'theeconomist', 'cnbc', 'cnn']"
   ]
  },
  {
   "cell_type": "code",
   "execution_count": 6,
   "metadata": {},
   "outputs": [],
   "source": [
    "# standardize the datetime format from different API\n",
    "def date_str_reformat(s, format_codes):\n",
    "    dt = datetime.strptime(s, format_codes)\n",
    "    date_obj = dt.date()\n",
    "    return date_obj"
   ]
  },
  {
   "cell_type": "code",
   "execution_count": 7,
   "metadata": {},
   "outputs": [],
   "source": [
    "media_tweets_fetcher = SearchTweetsFetcher(media, topic)"
   ]
  },
  {
   "cell_type": "code",
   "execution_count": 8,
   "metadata": {},
   "outputs": [],
   "source": [
    "media_tweets = media_tweets_fetcher.fetch_search_tweets()"
   ]
  },
  {
   "cell_type": "code",
   "execution_count": 9,
   "metadata": {},
   "outputs": [],
   "source": [
    "media_tweet_dateformat = '%a %b %d %H:%M:%S %z %Y'\n",
    "for md in media_tweets:\n",
    "    md['created_at'] = date_str_reformat(md['created_at'], media_tweet_dateformat)"
   ]
  },
  {
   "cell_type": "code",
   "execution_count": 10,
   "metadata": {},
   "outputs": [
    {
     "name": "stdout",
     "output_type": "stream",
     "text": [
      "{'contributors': None,\n",
      " 'coordinates': None,\n",
      " 'created_at': datetime.date(2019, 12, 24),\n",
      " 'entities': {'hashtags': [],\n",
      "              'symbols': [],\n",
      "              'urls': [{'display_url': 'twitter.com/i/web/status/1…',\n",
      "                        'expanded_url': 'https://twitter.com/i/web/status/1209471134393131008',\n",
      "                        'indices': [117, 140],\n",
      "                        'url': 'https://t.co/WSjqneG4pM'}],\n",
      "              'user_mentions': []},\n",
      " 'favorite_count': 85,\n",
      " 'favorited': False,\n",
      " 'geo': None,\n",
      " 'id': 1209471134393131008,\n",
      " 'id_str': '1209471134393131008',\n",
      " 'in_reply_to_screen_name': None,\n",
      " 'in_reply_to_status_id': None,\n",
      " 'in_reply_to_status_id_str': None,\n",
      " 'in_reply_to_user_id': None,\n",
      " 'in_reply_to_user_id_str': None,\n",
      " 'is_quote_status': False,\n",
      " 'lang': 'en',\n",
      " 'metadata': {'iso_language_code': 'en', 'result_type': 'recent'},\n",
      " 'place': None,\n",
      " 'possibly_sensitive': False,\n",
      " 'retweet_count': 53,\n",
      " 'retweeted': False,\n",
      " 'source': '<a href=\"http://www.socialflow.com\" rel=\"nofollow\">SocialFlow</a>',\n",
      " 'text': 'Pro-democracy protests in Hong Kong, an expensive trade war and '\n",
      "         'human rights violations in Xinjiang have defined Ch… '\n",
      "         'https://t.co/WSjqneG4pM',\n",
      " 'truncated': True,\n",
      " 'user': {'contributors_enabled': False,\n",
      "          'created_at': 'Sat May 12 13:04:50 +0000 2007',\n",
      "          'default_profile': False,\n",
      "          'default_profile_image': False,\n",
      "          'description': 'News and analysis with a global perspective. '\n",
      "                         'Subscribe here: https://t.co/owztJzwlmm',\n",
      "          'entities': {'description': {'urls': [{'display_url': 'econ.st/2eqtp7o',\n",
      "                                                 'expanded_url': 'http://econ.st/2eqtp7o',\n",
      "                                                 'indices': [61, 84],\n",
      "                                                 'url': 'https://t.co/owztJzwlmm'}]},\n",
      "                       'url': {'urls': [{'display_url': 'economist.com',\n",
      "                                         'expanded_url': 'http://www.economist.com',\n",
      "                                         'indices': [0, 23],\n",
      "                                         'url': 'https://t.co/pN0OAmG4SP'}]}},\n",
      "          'favourites_count': 150,\n",
      "          'follow_request_sent': False,\n",
      "          'followers_count': 24209730,\n",
      "          'following': False,\n",
      "          'friends_count': 121,\n",
      "          'geo_enabled': False,\n",
      "          'has_extended_profile': False,\n",
      "          'id': 5988062,\n",
      "          'id_str': '5988062',\n",
      "          'is_translation_enabled': True,\n",
      "          'is_translator': False,\n",
      "          'lang': None,\n",
      "          'listed_count': 113567,\n",
      "          'location': 'London',\n",
      "          'name': 'The Economist',\n",
      "          'notifications': False,\n",
      "          'profile_background_color': 'DFDFDF',\n",
      "          'profile_background_image_url': 'http://abs.twimg.com/images/themes/theme1/bg.png',\n",
      "          'profile_background_image_url_https': 'https://abs.twimg.com/images/themes/theme1/bg.png',\n",
      "          'profile_background_tile': True,\n",
      "          'profile_banner_url': 'https://pbs.twimg.com/profile_banners/5988062/1576685339',\n",
      "          'profile_image_url': 'http://pbs.twimg.com/profile_images/879361767914262528/HdRauDM-_normal.jpg',\n",
      "          'profile_image_url_https': 'https://pbs.twimg.com/profile_images/879361767914262528/HdRauDM-_normal.jpg',\n",
      "          'profile_link_color': 'E3120B',\n",
      "          'profile_sidebar_border_color': 'FFFFFF',\n",
      "          'profile_sidebar_fill_color': 'DDEEF6',\n",
      "          'profile_text_color': '2C2E2D',\n",
      "          'profile_use_background_image': True,\n",
      "          'protected': False,\n",
      "          'screen_name': 'TheEconomist',\n",
      "          'statuses_count': 197924,\n",
      "          'time_zone': None,\n",
      "          'translator_type': 'none',\n",
      "          'url': 'https://t.co/pN0OAmG4SP',\n",
      "          'utc_offset': None,\n",
      "          'verified': True}}\n"
     ]
    }
   ],
   "source": [
    "# retrieved json format tweets\n",
    "pprint(media_tweets[0])"
   ]
  },
  {
   "cell_type": "markdown",
   "metadata": {},
   "source": [
    "### manipulate data using Spark"
   ]
  },
  {
   "cell_type": "code",
   "execution_count": 11,
   "metadata": {},
   "outputs": [],
   "source": [
    "# as shown in the sample tweet, user is in nested json. MapType is the best choice to StructType it\n",
    "media_tweet_schema = StructType([StructField('created_at', DateType(), True),\n",
    "                                 StructField('user', MapType(StringType(), StringType()), True),\n",
    "                                 StructField('text', StringType(), True),\n",
    "                                 ])"
   ]
  },
  {
   "cell_type": "code",
   "execution_count": 12,
   "metadata": {},
   "outputs": [],
   "source": [
    "media_df_origin = spark.createDataFrame(media_tweets, schema=media_tweet_schema)"
   ]
  },
  {
   "cell_type": "code",
   "execution_count": 13,
   "metadata": {},
   "outputs": [
    {
     "name": "stdout",
     "output_type": "stream",
     "text": [
      "+----------+--------------------+--------------------+\n",
      "|created_at|                user|                text|\n",
      "+----------+--------------------+--------------------+\n",
      "|2019-12-24|[utc_offset ->, f...|Pro-democracy pro...|\n",
      "|2019-12-24|[utc_offset ->, f...|US stock markets ...|\n",
      "|2019-12-24|[utc_offset ->, f...|The US-China trad...|\n",
      "|2019-12-24|[utc_offset ->, f...|RT @CNNBusiness: ...|\n",
      "|2019-12-23|[utc_offset ->, f...|Asia stocks set t...|\n",
      "|2019-12-23|[utc_offset ->, f...|The latest tariff...|\n",
      "|2019-12-23|[utc_offset ->, f...|After a volatile ...|\n",
      "|2019-12-23|[utc_offset ->, f...|China will reduce...|\n",
      "|2019-12-23|[utc_offset ->, f...|The latest tariff...|\n",
      "|2019-12-23|[utc_offset ->, f...|Caught in Trump’s...|\n",
      "+----------+--------------------+--------------------+\n",
      "only showing top 10 rows\n",
      "\n"
     ]
    }
   ],
   "source": [
    "media_df_origin.show(10)"
   ]
  },
  {
   "cell_type": "code",
   "execution_count": 14,
   "metadata": {},
   "outputs": [
    {
     "name": "stdout",
     "output_type": "stream",
     "text": [
      "root\n",
      " |-- created_at: date (nullable = true)\n",
      " |-- user: map (nullable = true)\n",
      " |    |-- key: string\n",
      " |    |-- value: string (valueContainsNull = true)\n",
      " |-- text: string (nullable = true)\n",
      "\n"
     ]
    }
   ],
   "source": [
    "media_df_origin.printSchema()"
   ]
  },
  {
   "cell_type": "code",
   "execution_count": 15,
   "metadata": {},
   "outputs": [
    {
     "name": "stdout",
     "output_type": "stream",
     "text": [
      "+-----------------------+\n",
      "|user[name]             |\n",
      "+-----------------------+\n",
      "|The Economist          |\n",
      "|CNBC                   |\n",
      "|CNBC                   |\n",
      "|CNN                    |\n",
      "|CNBC                   |\n",
      "|The Wall Street Journal|\n",
      "|CNBC                   |\n",
      "|CNN                    |\n",
      "|The Wall Street Journal|\n",
      "|Bloomberg              |\n",
      "+-----------------------+\n",
      "only showing top 10 rows\n",
      "\n"
     ]
    }
   ],
   "source": [
    "media_df_origin.select(col('user')['name']).show(10, False)"
   ]
  },
  {
   "cell_type": "code",
   "execution_count": 16,
   "metadata": {},
   "outputs": [],
   "source": [
    "media_df_name = media_df_origin.withColumn('name', col('user')['name'])"
   ]
  },
  {
   "cell_type": "code",
   "execution_count": 17,
   "metadata": {},
   "outputs": [],
   "source": [
    "media_df_name = media_df_name.select(col('name'), col('text'), col('created_at'))"
   ]
  },
  {
   "cell_type": "code",
   "execution_count": 18,
   "metadata": {},
   "outputs": [
    {
     "name": "stdout",
     "output_type": "stream",
     "text": [
      "+--------------------+--------------------+----------+\n",
      "|                name|                text|created_at|\n",
      "+--------------------+--------------------+----------+\n",
      "|       The Economist|Pro-democracy pro...|2019-12-24|\n",
      "|                CNBC|US stock markets ...|2019-12-24|\n",
      "|                CNBC|The US-China trad...|2019-12-24|\n",
      "|                 CNN|RT @CNNBusiness: ...|2019-12-24|\n",
      "|                CNBC|Asia stocks set t...|2019-12-23|\n",
      "|The Wall Street J...|The latest tariff...|2019-12-23|\n",
      "|                CNBC|After a volatile ...|2019-12-23|\n",
      "|                 CNN|China will reduce...|2019-12-23|\n",
      "|The Wall Street J...|The latest tariff...|2019-12-23|\n",
      "|           Bloomberg|Caught in Trump’s...|2019-12-23|\n",
      "+--------------------+--------------------+----------+\n",
      "only showing top 10 rows\n",
      "\n"
     ]
    }
   ],
   "source": [
    "media_df_name.show(10)"
   ]
  },
  {
   "cell_type": "code",
   "execution_count": 19,
   "metadata": {},
   "outputs": [],
   "source": [
    "# using customized sentiment analyzer class\n",
    "sa = SentimentAnalyzer()"
   ]
  },
  {
   "cell_type": "code",
   "execution_count": 20,
   "metadata": {},
   "outputs": [],
   "source": [
    "# transform a customized function into Spark User-Defined-Function\n",
    "udf_sentscore = udf(sa.sentiment_score, FloatType())"
   ]
  },
  {
   "cell_type": "code",
   "execution_count": 21,
   "metadata": {},
   "outputs": [],
   "source": [
    "# get sentiment score of the tweet\n",
    "media_df_sentiment = media_df_name.withColumn('sentiment_score', udf_sentscore(col('text')))"
   ]
  },
  {
   "cell_type": "code",
   "execution_count": 22,
   "metadata": {},
   "outputs": [
    {
     "name": "stdout",
     "output_type": "stream",
     "text": [
      "+--------------------+--------------------+----------+---------------+\n",
      "|                name|                text|created_at|sentiment_score|\n",
      "+--------------------+--------------------+----------+---------------+\n",
      "|       The Economist|Pro-democracy pro...|2019-12-24|        -0.8481|\n",
      "|                CNBC|US stock markets ...|2019-12-24|            0.0|\n",
      "|                CNBC|The US-China trad...|2019-12-24|        -0.3818|\n",
      "|                 CNN|RT @CNNBusiness: ...|2019-12-24|         0.2263|\n",
      "|                CNBC|Asia stocks set t...|2019-12-23|         0.0258|\n",
      "|The Wall Street J...|The latest tariff...|2019-12-23|         0.1655|\n",
      "|                CNBC|After a volatile ...|2019-12-23|         0.3182|\n",
      "|                 CNN|China will reduce...|2019-12-23|         0.4019|\n",
      "|The Wall Street J...|The latest tariff...|2019-12-23|         0.1655|\n",
      "|           Bloomberg|Caught in Trump’s...|2019-12-23|            0.0|\n",
      "+--------------------+--------------------+----------+---------------+\n",
      "only showing top 10 rows\n",
      "\n"
     ]
    }
   ],
   "source": [
    "media_df_sentiment.show(10)"
   ]
  },
  {
   "cell_type": "markdown",
   "metadata": {},
   "source": [
    "### what do mainstream media feel about the trade war ?"
   ]
  },
  {
   "cell_type": "code",
   "execution_count": 23,
   "metadata": {},
   "outputs": [
    {
     "name": "stdout",
     "output_type": "stream",
     "text": [
      "+--------------------+--------------------+\n",
      "|                name|avg(sentiment_score)|\n",
      "+--------------------+--------------------+\n",
      "|The Wall Street J...|-0.13022727248343555|\n",
      "|         MarketWatch| 0.18943333625793457|\n",
      "|           Bloomberg| 0.14740370614109216|\n",
      "|                 CNN|  0.1751666640241941|\n",
      "|                CNBC| 0.01820294153602684|\n",
      "|       The Economist|-0.14190000295639038|\n",
      "+--------------------+--------------------+\n",
      "\n"
     ]
    }
   ],
   "source": [
    "media_df_sentiment.groupby('name').mean('sentiment_score').show()"
   ]
  },
  {
   "cell_type": "markdown",
   "metadata": {},
   "source": [
    "### The Trump Factor"
   ]
  },
  {
   "cell_type": "code",
   "execution_count": 24,
   "metadata": {},
   "outputs": [],
   "source": [
    "trump_tweets_fetcher = UserTweetsFetcher('realDonaldTrump')"
   ]
  },
  {
   "cell_type": "code",
   "execution_count": 25,
   "metadata": {},
   "outputs": [],
   "source": [
    "trump_tweets = trump_tweets_fetcher.fetch_user_tweets()"
   ]
  },
  {
   "cell_type": "code",
   "execution_count": 26,
   "metadata": {},
   "outputs": [],
   "source": [
    "trump_tweet_dateformat = '%Y-%m-%d %H:%M:%S'\n",
    "for td in trump_tweets:\n",
    "    td['created_at'] = date_str_reformat(td['created_at'], trump_tweet_dateformat)"
   ]
  },
  {
   "cell_type": "code",
   "execution_count": 27,
   "metadata": {},
   "outputs": [
    {
     "name": "stdout",
     "output_type": "stream",
     "text": [
      "{'created_at': datetime.date(2019, 12, 24),\n",
      " 'text': 'The ONLY reason we were able to get our great USMCA Trade Deal '\n",
      "         'approved was because the Do Nothing Democrats wanted to show that '\n",
      "         'they could approve  something productive in light of the fact that '\n",
      "         'all they even think about is impeachment. She knows nothing about '\n",
      "         'the USMCA Deal!'}\n"
     ]
    }
   ],
   "source": [
    "pprint(trump_tweets[0])"
   ]
  },
  {
   "cell_type": "code",
   "execution_count": 28,
   "metadata": {},
   "outputs": [],
   "source": [
    "trump_tweet_schema = StructType([StructField('created_at', DateType(), True),\n",
    "                                 StructField('text', StringType(), True),\n",
    "                                 ])"
   ]
  },
  {
   "cell_type": "code",
   "execution_count": 29,
   "metadata": {},
   "outputs": [],
   "source": [
    "trump_df_origin = spark.createDataFrame(trump_tweets, schema=trump_tweet_schema)"
   ]
  },
  {
   "cell_type": "code",
   "execution_count": 30,
   "metadata": {},
   "outputs": [
    {
     "name": "stdout",
     "output_type": "stream",
     "text": [
      "+----------+--------------------+\n",
      "|created_at|                text|\n",
      "+----------+--------------------+\n",
      "|2019-12-24|The ONLY reason w...|\n",
      "|2019-12-24|....the American ...|\n",
      "|2019-12-24|“The Dems are com...|\n",
      "|2019-12-24|“The Trump Admini...|\n",
      "|2019-12-24|“Stocks kick off ...|\n",
      "|2019-12-24|....mount some ki...|\n",
      "|2019-12-24|Everything we’re ...|\n",
      "|2019-12-24|RT @EpochTimes: O...|\n",
      "|2019-12-24|“The real victims...|\n",
      "|2019-12-24|What the Democrat...|\n",
      "+----------+--------------------+\n",
      "only showing top 10 rows\n",
      "\n"
     ]
    }
   ],
   "source": [
    "trump_df_origin.show(10)"
   ]
  },
  {
   "cell_type": "code",
   "execution_count": 31,
   "metadata": {},
   "outputs": [],
   "source": [
    "trump_df_sentiment = trump_df_origin.withColumn('sentiment_score', udf_sentscore(col('text')))"
   ]
  },
  {
   "cell_type": "markdown",
   "metadata": {},
   "source": [
    "#### Is Mr. Trump happy ?"
   ]
  },
  {
   "cell_type": "code",
   "execution_count": 32,
   "metadata": {},
   "outputs": [
    {
     "name": "stdout",
     "output_type": "stream",
     "text": [
      "+--------------------+\n",
      "|avg(sentiment_score)|\n",
      "+--------------------+\n",
      "|  0.0848597980212027|\n",
      "+--------------------+\n",
      "\n"
     ]
    }
   ],
   "source": [
    "trump_df_sentiment.select(functions.mean(col('sentiment_score'))).show()"
   ]
  },
  {
   "cell_type": "markdown",
   "metadata": {},
   "source": [
    "### Join the singals together ?"
   ]
  },
  {
   "cell_type": "code",
   "execution_count": 33,
   "metadata": {},
   "outputs": [
    {
     "name": "stdout",
     "output_type": "stream",
     "text": [
      "+----------+--------------------+\n",
      "|      date| media_avg_sentiment|\n",
      "+----------+--------------------+\n",
      "|2019-12-18|0.023206668595472973|\n",
      "|2019-12-22| 0.23946666717529297|\n",
      "|2019-12-23| 0.01673999838531017|\n",
      "|2019-12-16| 0.14841250400058925|\n",
      "|2019-12-20| 0.11665000170469284|\n",
      "|2019-12-19| 0.05554444011714724|\n",
      "|2019-12-17| 0.01582307769702031|\n",
      "|2019-12-21|-0.01857499592006...|\n",
      "|2019-12-24|  -0.250900000333786|\n",
      "+----------+--------------------+\n",
      "\n"
     ]
    }
   ],
   "source": [
    "media_groupby_date = media_df_sentiment.groupby('created_at').mean('sentiment_score') \\\n",
    "    .select(col('created_at').alias('date'), col('avg(sentiment_score)').alias('media_avg_sentiment'))\n",
    "media_groupby_date.show()"
   ]
  },
  {
   "cell_type": "code",
   "execution_count": 34,
   "metadata": {},
   "outputs": [
    {
     "name": "stdout",
     "output_type": "stream",
     "text": [
      "+----------+--------------------+\n",
      "|      date| trump_avg_sentiment|\n",
      "+----------+--------------------+\n",
      "|2019-12-18| 0.25108181752941827|\n",
      "|2019-12-22|-0.18884999677538872|\n",
      "|2019-12-23|-0.13394615498299783|\n",
      "|2019-12-20| 0.26934749642387035|\n",
      "|2019-12-19|0.006705063053324253|\n",
      "|2019-12-21|  0.2852347810631213|\n",
      "|2019-12-24|  0.1045500012114644|\n",
      "+----------+--------------------+\n",
      "\n"
     ]
    }
   ],
   "source": [
    "trump_groupby_date = trump_df_sentiment.groupby('created_at').mean('sentiment_score') \\\n",
    "    .select(col('created_at').alias('date'), col('avg(sentiment_score)').alias('trump_avg_sentiment'))\n",
    "trump_groupby_date.show()"
   ]
  },
  {
   "cell_type": "code",
   "execution_count": 35,
   "metadata": {},
   "outputs": [
    {
     "name": "stdout",
     "output_type": "stream",
     "text": [
      "+----------+--------------------+--------------------+\n",
      "|      date| media_avg_sentiment| trump_avg_sentiment|\n",
      "+----------+--------------------+--------------------+\n",
      "|2019-12-18|0.023206668595472973| 0.25108181752941827|\n",
      "|2019-12-19| 0.05554444011714724|0.006705063053324253|\n",
      "|2019-12-20| 0.11665000170469284| 0.26934749642387035|\n",
      "|2019-12-21|-0.01857499592006...|  0.2852347810631213|\n",
      "|2019-12-22| 0.23946666717529297|-0.18884999677538872|\n",
      "|2019-12-23| 0.01673999838531017|-0.13394615498299783|\n",
      "|2019-12-24|  -0.250900000333786|  0.1045500012114644|\n",
      "+----------+--------------------+--------------------+\n",
      "\n"
     ]
    }
   ],
   "source": [
    "sentiment_groupby_date = media_groupby_date.join(trump_groupby_date, on=['date'], how='inner')\n",
    "sentiment_groupby_date.sort(col('date')).show()"
   ]
  },
  {
   "cell_type": "markdown",
   "metadata": {},
   "source": [
    "### how did the market respond?"
   ]
  },
  {
   "cell_type": "code",
   "execution_count": 36,
   "metadata": {},
   "outputs": [],
   "source": [
    "# consume Quandl API to retrieve NASDAQ OMX Global Index data\n",
    "omx = IndexFetcher(dataset_id='NASDAQOMX/XQC', start_date='2019-12-15')\n",
    "omx_return = omx.fetch_return()"
   ]
  },
  {
   "cell_type": "code",
   "execution_count": 37,
   "metadata": {},
   "outputs": [],
   "source": [
    "index_schema = StructType([StructField('Trade Date', DateType(), True),\n",
    "                           StructField('Index Value', FloatType(), True),\n",
    "                           StructField('Change', FloatType(), True)])"
   ]
  },
  {
   "cell_type": "code",
   "execution_count": 38,
   "metadata": {},
   "outputs": [
    {
     "name": "stdout",
     "output_type": "stream",
     "text": [
      "+----------+-----------+------------+\n",
      "|Trade Date|Index Value|      Change|\n",
      "+----------+-----------+------------+\n",
      "|2019-12-16|    8570.33|         NaN|\n",
      "|2019-12-17|     8575.7| 6.265803E-4|\n",
      "|2019-12-18|    8580.62| 5.737141E-4|\n",
      "|2019-12-19|    8641.29|0.0070705847|\n",
      "|2019-12-20|    8678.49| 0.004304913|\n",
      "|2019-12-23|    8696.01|0.0020187844|\n",
      "+----------+-----------+------------+\n",
      "\n"
     ]
    }
   ],
   "source": [
    "index_data_raw = spark.createDataFrame(omx_return, schema=index_schema)\n",
    "index_data_raw.show()"
   ]
  },
  {
   "cell_type": "code",
   "execution_count": 39,
   "metadata": {},
   "outputs": [
    {
     "name": "stdout",
     "output_type": "stream",
     "text": [
      "+----------+------------+\n",
      "|      date|index_return|\n",
      "+----------+------------+\n",
      "|2019-12-16|         NaN|\n",
      "|2019-12-17| 6.265803E-4|\n",
      "|2019-12-18| 5.737141E-4|\n",
      "|2019-12-19|0.0070705847|\n",
      "|2019-12-20| 0.004304913|\n",
      "|2019-12-23|0.0020187844|\n",
      "+----------+------------+\n",
      "\n"
     ]
    }
   ],
   "source": [
    "index_data = index_data_raw.select(col('Trade Date').alias('date'), col('change').alias('index_return'))\n",
    "index_data.show()"
   ]
  },
  {
   "cell_type": "code",
   "execution_count": 40,
   "metadata": {},
   "outputs": [
    {
     "name": "stdout",
     "output_type": "stream",
     "text": [
      "+----------+--------------------+--------------------+------------+\n",
      "|      date| media_avg_sentiment| trump_avg_sentiment|index_return|\n",
      "+----------+--------------------+--------------------+------------+\n",
      "|2019-12-18|0.023206668595472973| 0.25108181752941827| 5.737141E-4|\n",
      "|2019-12-19| 0.05554444011714724|0.006705063053324253|0.0070705847|\n",
      "|2019-12-20| 0.11665000170469284| 0.26934749642387035| 0.004304913|\n",
      "|2019-12-23| 0.01673999838531017|-0.13394615498299783|0.0020187844|\n",
      "+----------+--------------------+--------------------+------------+\n",
      "\n"
     ]
    }
   ],
   "source": [
    "sentiment_market = sentiment_groupby_date.join(index_data, on=['date'], how='inner')\n",
    "sentiment_market.sort(col('date')).show()"
   ]
  }
 ],
 "metadata": {
  "kernelspec": {
   "display_name": "tradewarvenv",
   "language": "python",
   "name": "tradewarvenv"
  },
  "language_info": {
   "codemirror_mode": {
    "name": "ipython",
    "version": 3
   },
   "file_extension": ".py",
   "mimetype": "text/x-python",
   "name": "python",
   "nbconvert_exporter": "python",
   "pygments_lexer": "ipython3",
   "version": "3.7.3"
  }
 },
 "nbformat": 4,
 "nbformat_minor": 4
}
