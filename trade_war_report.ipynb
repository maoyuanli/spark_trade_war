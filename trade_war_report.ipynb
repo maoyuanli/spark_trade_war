{
 "cells": [
  {
   "cell_type": "code",
   "execution_count": 1,
   "metadata": {},
   "outputs": [],
   "source": [
    "# heavylifting functions are abstracted and modularized in utils package\n",
    "from utils.fetch_tweet import TweetFetcher\n",
    "from utils.analyze_sentiment import SentimentAnalyzer\n",
    "from utils.spark_initializer import SparkInitializer\n",
    "SparkInitializer.init_spark()\n",
    "from pyspark.sql.functions import from_json, col, udf\n",
    "from pyspark.sql import SparkSession\n",
    "from pyspark.sql.types import StructType, StructField, DateType, MapType, StringType, FloatType\n",
    "from pprint import pprint"
   ]
  },
  {
   "cell_type": "code",
   "execution_count": 2,
   "metadata": {},
   "outputs": [],
   "source": [
    "spark = SparkSession.builder.appName('TradeWar').getOrCreate()"
   ]
  },
  {
   "cell_type": "markdown",
   "metadata": {},
   "source": [
    "#### retrieve data source"
   ]
  },
  {
   "cell_type": "code",
   "execution_count": 3,
   "metadata": {},
   "outputs": [],
   "source": [
    "topic = ['china', 'trade']\n",
    "media = ['marketwatch', 'wsj', 'ft', 'business', 'theeconomist', 'cnbc', 'cnn']"
   ]
  },
  {
   "cell_type": "code",
   "execution_count": 4,
   "metadata": {},
   "outputs": [],
   "source": [
    "media_tweets = TweetFetcher(media, topic).generate_tweets()"
   ]
  },
  {
   "cell_type": "code",
   "execution_count": 5,
   "metadata": {},
   "outputs": [
    {
     "name": "stdout",
     "output_type": "stream",
     "text": [
      "{'contributors': None,\n",
      " 'coordinates': None,\n",
      " 'created_at': 'Mon Dec 16 04:48:11 +0000 2019',\n",
      " 'entities': {'hashtags': [],\n",
      "              'symbols': [],\n",
      "              'urls': [{'display_url': 'cnb.cx/2PNdcbn',\n",
      "                        'expanded_url': 'https://cnb.cx/2PNdcbn',\n",
      "                        'indices': [79, 102],\n",
      "                        'url': 'https://t.co/VdK3hHi1wZ'}],\n",
      "              'user_mentions': []},\n",
      " 'favorite_count': 34,\n",
      " 'favorited': False,\n",
      " 'geo': None,\n",
      " 'id': 1206435831914909697,\n",
      " 'id_str': '1206435831914909697',\n",
      " 'in_reply_to_screen_name': None,\n",
      " 'in_reply_to_status_id': None,\n",
      " 'in_reply_to_status_id_str': None,\n",
      " 'in_reply_to_user_id': None,\n",
      " 'in_reply_to_user_id_str': None,\n",
      " 'is_quote_status': False,\n",
      " 'lang': 'en',\n",
      " 'metadata': {'iso_language_code': 'en', 'result_type': 'recent'},\n",
      " 'place': None,\n",
      " 'possibly_sensitive': False,\n",
      " 'retweet_count': 12,\n",
      " 'retweeted': False,\n",
      " 'source': '<a href=\"http://www.socialflow.com\" rel=\"nofollow\">SocialFlow</a>',\n",
      " 'text': 'US and China reached a trade agreement, but some key details are '\n",
      "         'still unclear https://t.co/VdK3hHi1wZ',\n",
      " 'truncated': False,\n",
      " 'user': {'contributors_enabled': False,\n",
      "          'created_at': 'Mon Feb 09 00:03:41 +0000 2009',\n",
      "          'default_profile': False,\n",
      "          'default_profile_image': False,\n",
      "          'description': 'First in business worldwide.',\n",
      "          'entities': {'description': {'urls': []}},\n",
      "          'favourites_count': 460,\n",
      "          'follow_request_sent': False,\n",
      "          'followers_count': 3332119,\n",
      "          'following': False,\n",
      "          'friends_count': 792,\n",
      "          'geo_enabled': True,\n",
      "          'has_extended_profile': False,\n",
      "          'id': 20402945,\n",
      "          'id_str': '20402945',\n",
      "          'is_translation_enabled': False,\n",
      "          'is_translator': False,\n",
      "          'lang': None,\n",
      "          'listed_count': 28511,\n",
      "          'location': 'Englewood Cliffs, NJ',\n",
      "          'name': 'CNBC',\n",
      "          'notifications': False,\n",
      "          'profile_background_color': '0D181F',\n",
      "          'profile_background_image_url': 'http://abs.twimg.com/images/themes/theme1/bg.png',\n",
      "          'profile_background_image_url_https': 'https://abs.twimg.com/images/themes/theme1/bg.png',\n",
      "          'profile_background_tile': False,\n",
      "          'profile_banner_url': 'https://pbs.twimg.com/profile_banners/20402945/1533568341',\n",
      "          'profile_image_url': 'http://pbs.twimg.com/profile_images/1185182366156894208/pKRddT3o_normal.png',\n",
      "          'profile_image_url_https': 'https://pbs.twimg.com/profile_images/1185182366156894208/pKRddT3o_normal.png',\n",
      "          'profile_link_color': '2D648A',\n",
      "          'profile_sidebar_border_color': 'FFFFFF',\n",
      "          'profile_sidebar_fill_color': 'EAEBEA',\n",
      "          'profile_text_color': '333333',\n",
      "          'profile_use_background_image': True,\n",
      "          'protected': False,\n",
      "          'screen_name': 'CNBC',\n",
      "          'statuses_count': 323147,\n",
      "          'time_zone': None,\n",
      "          'translator_type': 'none',\n",
      "          'url': None,\n",
      "          'utc_offset': None,\n",
      "          'verified': True}}\n"
     ]
    }
   ],
   "source": [
    "# retrieved json format tweets\n",
    "pprint(media_tweets[0])"
   ]
  },
  {
   "cell_type": "markdown",
   "metadata": {},
   "source": [
    "#### manipulate data using Spark"
   ]
  },
  {
   "cell_type": "code",
   "execution_count": 6,
   "metadata": {},
   "outputs": [],
   "source": [
    "# as shown in the sample tweet, user is in nested json. MapType is the best choice to StructType it\n",
    "tweet_schema = StructType([StructField('created_at', StringType(), True),\n",
    "                           StructField('user', MapType(StringType(),StringType()), True),\n",
    "                           StructField('text', StringType(), True),\n",
    "                          ])"
   ]
  },
  {
   "cell_type": "code",
   "execution_count": 7,
   "metadata": {},
   "outputs": [],
   "source": [
    "sdf = spark.createDataFrame(media_tweets, schema=tweet_schema)"
   ]
  },
  {
   "cell_type": "code",
   "execution_count": 8,
   "metadata": {},
   "outputs": [
    {
     "name": "stdout",
     "output_type": "stream",
     "text": [
      "+--------------------+--------------------+--------------------+\n",
      "|          created_at|                user|                text|\n",
      "+--------------------+--------------------+--------------------+\n",
      "|Mon Dec 16 04:48:...|[utc_offset ->, f...|US and China reac...|\n",
      "|Mon Dec 16 04:32:...|[utc_offset ->, f...|The US-China trad...|\n",
      "|Mon Dec 16 04:22:...|[utc_offset ->, f...|Asian markets lit...|\n",
      "|Mon Dec 16 03:16:...|[utc_offset ->, f...|-U.S. and China a...|\n",
      "|Mon Dec 16 03:09:...|[utc_offset ->, f...|-China’s offshore...|\n",
      "|Sun Dec 15 21:39:...|[utc_offset ->, f...|China says it wil...|\n",
      "|Sun Dec 15 20:40:...|[utc_offset ->, f...|So many of the br...|\n",
      "|Sun Dec 15 18:44:...|[utc_offset ->, f...|China's exports t...|\n",
      "|Sun Dec 15 18:29:...|[utc_offset ->, f...|That a deal exist...|\n",
      "|Sun Dec 15 17:24:...|[utc_offset ->, f...|U.S. Trade Repres...|\n",
      "+--------------------+--------------------+--------------------+\n",
      "only showing top 10 rows\n",
      "\n"
     ]
    }
   ],
   "source": [
    "sdf.show(10)"
   ]
  },
  {
   "cell_type": "code",
   "execution_count": 9,
   "metadata": {},
   "outputs": [],
   "source": [
    "# flatten the user column\n",
    "user_schema = StructType([StructField('id_str', StringType(), True),\n",
    "                           StructField('name', StringType(), True),\n",
    "                           StructField('screen_name', StringType(), True),\n",
    "                          ])"
   ]
  },
  {
   "cell_type": "code",
   "execution_count": 10,
   "metadata": {},
   "outputs": [
    {
     "name": "stdout",
     "output_type": "stream",
     "text": [
      "root\n",
      " |-- created_at: string (nullable = true)\n",
      " |-- user: map (nullable = true)\n",
      " |    |-- key: string\n",
      " |    |-- value: string (valueContainsNull = true)\n",
      " |-- text: string (nullable = true)\n",
      "\n"
     ]
    }
   ],
   "source": [
    "sdf.printSchema()"
   ]
  },
  {
   "cell_type": "code",
   "execution_count": 11,
   "metadata": {},
   "outputs": [
    {
     "name": "stdout",
     "output_type": "stream",
     "text": [
      "+-------------+\n",
      "|user[name]   |\n",
      "+-------------+\n",
      "|CNBC         |\n",
      "|CNBC         |\n",
      "|MarketWatch  |\n",
      "|Bloomberg    |\n",
      "|Bloomberg    |\n",
      "|MarketWatch  |\n",
      "|CNBC         |\n",
      "|The Economist|\n",
      "|The Economist|\n",
      "|Bloomberg    |\n",
      "+-------------+\n",
      "only showing top 10 rows\n",
      "\n"
     ]
    }
   ],
   "source": [
    "sdf.select(col('user')['name']).show(10,False)"
   ]
  },
  {
   "cell_type": "code",
   "execution_count": 12,
   "metadata": {},
   "outputs": [],
   "source": [
    "sdf1 = sdf.withColumn('name', col('user')['name'])"
   ]
  },
  {
   "cell_type": "code",
   "execution_count": 13,
   "metadata": {},
   "outputs": [],
   "source": [
    "sdf2 = sdf1.select(col('name'),col('text'),col('created_at'))"
   ]
  },
  {
   "cell_type": "code",
   "execution_count": 14,
   "metadata": {},
   "outputs": [
    {
     "name": "stdout",
     "output_type": "stream",
     "text": [
      "+-------------+--------------------+--------------------+\n",
      "|         name|                text|          created_at|\n",
      "+-------------+--------------------+--------------------+\n",
      "|         CNBC|US and China reac...|Mon Dec 16 04:48:...|\n",
      "|         CNBC|The US-China trad...|Mon Dec 16 04:32:...|\n",
      "|  MarketWatch|Asian markets lit...|Mon Dec 16 04:22:...|\n",
      "|    Bloomberg|-U.S. and China a...|Mon Dec 16 03:16:...|\n",
      "|    Bloomberg|-China’s offshore...|Mon Dec 16 03:09:...|\n",
      "|  MarketWatch|China says it wil...|Sun Dec 15 21:39:...|\n",
      "|         CNBC|So many of the br...|Sun Dec 15 20:40:...|\n",
      "|The Economist|China's exports t...|Sun Dec 15 18:44:...|\n",
      "|The Economist|That a deal exist...|Sun Dec 15 18:29:...|\n",
      "|    Bloomberg|U.S. Trade Repres...|Sun Dec 15 17:24:...|\n",
      "+-------------+--------------------+--------------------+\n",
      "only showing top 10 rows\n",
      "\n"
     ]
    }
   ],
   "source": [
    "sdf2.show(10)"
   ]
  },
  {
   "cell_type": "code",
   "execution_count": 15,
   "metadata": {},
   "outputs": [],
   "source": [
    "# using customized sentiment analyzer class\n",
    "sa = SentimentAnalyzer()"
   ]
  },
  {
   "cell_type": "code",
   "execution_count": 16,
   "metadata": {},
   "outputs": [],
   "source": [
    "# transform a customized function into Spark User-Defined-Function\n",
    "udf_sentscore = udf(sa.sentiment_score, FloatType())"
   ]
  },
  {
   "cell_type": "code",
   "execution_count": 17,
   "metadata": {},
   "outputs": [],
   "source": [
    "# get sentiment score of the tweet\n",
    "sdf3 = sdf2.withColumn('sentiment_score', udf_sentscore(col('text')))"
   ]
  },
  {
   "cell_type": "code",
   "execution_count": 18,
   "metadata": {},
   "outputs": [
    {
     "name": "stdout",
     "output_type": "stream",
     "text": [
      "+-------------+--------------------+--------------------+---------------+\n",
      "|         name|                text|          created_at|sentiment_score|\n",
      "+-------------+--------------------+--------------------+---------------+\n",
      "|         CNBC|US and China reac...|Mon Dec 16 04:48:...|         0.3818|\n",
      "|         CNBC|The US-China trad...|Mon Dec 16 04:32:...|        -0.6369|\n",
      "|  MarketWatch|Asian markets lit...|Mon Dec 16 04:22:...|            0.0|\n",
      "|    Bloomberg|-U.S. and China a...|Mon Dec 16 03:16:...|         0.3612|\n",
      "|    Bloomberg|-China’s offshore...|Mon Dec 16 03:09:...|         0.4767|\n",
      "|  MarketWatch|China says it wil...|Sun Dec 15 21:39:...|            0.0|\n",
      "|         CNBC|So many of the br...|Sun Dec 15 20:40:...|            0.0|\n",
      "|The Economist|China's exports t...|Sun Dec 15 18:44:...|            0.0|\n",
      "|The Economist|That a deal exist...|Sun Dec 15 18:29:...|         0.7003|\n",
      "|    Bloomberg|U.S. Trade Repres...|Sun Dec 15 17:24:...|            0.0|\n",
      "+-------------+--------------------+--------------------+---------------+\n",
      "only showing top 10 rows\n",
      "\n"
     ]
    }
   ],
   "source": [
    "sdf3.show(10)"
   ]
  },
  {
   "cell_type": "code",
   "execution_count": 19,
   "metadata": {},
   "outputs": [
    {
     "name": "stdout",
     "output_type": "stream",
     "text": [
      "+--------------------+--------------------+\n",
      "|                name|avg(sentiment_score)|\n",
      "+--------------------+--------------------+\n",
      "|The Wall Street J...|-0.05000000115897921|\n",
      "|         MarketWatch|-0.01277948438357...|\n",
      "|     Financial Times| 0.07606666535139084|\n",
      "|           Bloomberg|0.042573611045049295|\n",
      "|                 CNN| 0.16906923055648804|\n",
      "|                CNBC|   0.054294870640987|\n",
      "|       The Economist|-0.12496363574808295|\n",
      "+--------------------+--------------------+\n",
      "\n"
     ]
    }
   ],
   "source": [
    "sdf3.groupby('name').mean('sentiment_score').alias('avg_sentiment').show()"
   ]
  }
 ],
 "metadata": {
  "kernelspec": {
   "display_name": "tradewarvenv",
   "language": "python",
   "name": "tradewarvenv"
  },
  "language_info": {
   "codemirror_mode": {
    "name": "ipython",
    "version": 3
   },
   "file_extension": ".py",
   "mimetype": "text/x-python",
   "name": "python",
   "nbconvert_exporter": "python",
   "pygments_lexer": "ipython3",
   "version": "3.7.3"
  }
 },
 "nbformat": 4,
 "nbformat_minor": 4
}
